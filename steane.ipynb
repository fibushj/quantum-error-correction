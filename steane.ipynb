{
 "cells": [
  {
   "cell_type": "markdown",
   "metadata": {},
   "source": [
    "# Problem Statement:\n",
    "## Task 2\n",
    "\n",
    "The bit-flip code and the sign-flip code (you can find a description of both [here](https://en.wikipedia.org/wiki/Quantum_error_correction)) are two very simple circuits able to detect and fix the bit-flip and the sign-flip errors, respectively.\n",
    "\n",
    "1. Build the following simple circuit to prepare the Bell state:\n",
    "\n",
    "![Bell State generating circuit](bell-circuit.png)\n",
    "\n",
    "2. Now add, right before the CNOT gate and for each of the two qubits, an arbitrary \"error gate\". By error gate, we mean that with a certain probability (that you can decide but must be non-zero for all the choices) you have a 1-qubit unitary which can be either the identity, or the $X$ gate (bit-flip error) or the $Z$ gate (sign-flip error).\n",
    "3. Encode each of the two qubits with a sign-flip or bit-flip code, in such a way that **all the possible** choices for the error gates described in (2), occurring on the logical qubits, can be detected and fixed. Motivate your choice. This is the most non-trivial part of the problem, so do it with a lot of care!\n",
    "4. Test your solution by making measurements over the final state and testing that the results are in line with the expectation.\n"
   ]
  },
  {
   "cell_type": "code",
   "execution_count": 1,
   "metadata": {},
   "outputs": [],
   "source": [
    "from qiskit import QuantumCircuit, QuantumRegister, ClassicalRegister\n",
    "from qiskit import execute, Aer\n",
    "from qiskit.providers.aer import QasmSimulator\n",
    "from qiskit.visualization import plot_histogram\n",
    "\n",
    "import numpy as np\n",
    "\n",
    "from matplotlib import pyplot as plt\n",
    "\n",
    "%matplotlib inline\n",
    "\n",
    "sv_sim = Aer.get_backend('statevector_simulator')\n",
    "qasm_sim = QasmSimulator(method='extended_stabilizer')"
   ]
  },
  {
   "cell_type": "markdown",
   "metadata": {},
   "source": [
    "# 1. Circuit with no errors"
   ]
  },
  {
   "cell_type": "code",
   "execution_count": 2,
   "metadata": {},
   "outputs": [
    {
     "data": {
      "text/html": [
       "<pre style=\"word-wrap: normal;white-space: pre;background: #fff0;line-height: 1.1;font-family: &quot;Courier New&quot;,Courier,monospace\">     ┌───┐     \n",
       "q_0: ┤ H ├──■──\n",
       "     └───┘┌─┴─┐\n",
       "q_1: ─────┤ X ├\n",
       "          └───┘</pre>"
      ],
      "text/plain": [
       "     ┌───┐     \n",
       "q_0: ┤ H ├──■──\n",
       "     └───┘┌─┴─┐\n",
       "q_1: ─────┤ X ├\n",
       "          └───┘"
      ]
     },
     "execution_count": 2,
     "metadata": {},
     "output_type": "execute_result"
    }
   ],
   "source": [
    "qc = QuantumCircuit(2)    # Create the quantum circuit object with 2 qubits\n",
    "qc.h(0)                   # Add a Hadamard gate on the first qubit\n",
    "qc.cx(0,1)                # Add a CNOT gate with first qubit as control and second as target\n",
    "\n",
    "qc.draw()                 # Display the circuit"
   ]
  },
  {
   "cell_type": "markdown",
   "metadata": {},
   "source": [
    "#### Running Circuit 1\n",
    "\n",
    "With no errors, this circuit should produce the Bell state:\n",
    "$$ |\\beta_{00}\\rangle = \\frac{|00\\rangle + |11\\rangle}{\\sqrt{2}} $$\n",
    "\n",
    "Upon measuring this state, we should observe these statistics:\n",
    "\n",
    "|**Measured State**|**Probability**|\n",
    "|:----------------:|--------------:|\n",
    "|00|0.5|\n",
    "|01|0.0|\n",
    "|10|0.0|\n",
    "|11|0.5|"
   ]
  },
  {
   "cell_type": "code",
   "execution_count": 3,
   "metadata": {},
   "outputs": [
    {
     "name": "stdout",
     "output_type": "stream",
     "text": [
      "Output state vector:  [0.70710678+0.j 0.        +0.j 0.        +0.j 0.70710678+0.j]\n"
     ]
    },
    {
     "data": {
      "image/png": "[encoded data removed]",
      "text/plain": [
       "<Figure size 504x360 with 1 Axes>"
      ]
     },
     "execution_count": 3,
     "metadata": {},
     "output_type": "execute_result"
    }
   ],
   "source": [
    "result = execute(qc,sv_sim).result()\n",
    "print('Output state vector: ', result.get_statevector())\n",
    "\n",
    "counts = result.get_counts()\n",
    "plot_histogram(counts)"
   ]
  },
  {
   "cell_type": "markdown",
   "metadata": {},
   "source": [
    "### 2. Circuit prone to errors, without error correction\n",
    "\n",
    "Now, each qubit is subject to a random error before the CNOT gate. For each qubit the probability of encountering an $X$ error is $p$, the probability of encountering a $Z$ error is $p$ and thus, the probability of no error is $1-2p$.\n",
    "\n",
    "You can adjust the value of p in the cell below:"
   ]
  },
  {
   "cell_type": "code",
   "execution_count": 4,
   "metadata": {},
   "outputs": [],
   "source": [
    "p=0.3"
   ]
  },
  {
   "cell_type": "markdown",
   "metadata": {},
   "source": [
    "The next cell defines a function that will add a random error gate the circuit.\n",
    "\n",
    "* `qubit`: The index of the qubit to add the error gate to\n",
    "* `prob`: The probability of the error gates occuring (assumes every error is equally likely)\n",
    "* `error_gates`: A list of possible error gates (pass in the form `[quantumCircuit.gate0, ...]`)"
   ]
  },
  {
   "cell_type": "code",
   "execution_count": 5,
   "metadata": {},
   "outputs": [],
   "source": [
    "def addDiscreteErrorGate(qubit, prob, error_gates):\n",
    "    n = len(error_gates)\n",
    "    \n",
    "    # Check to make sure n*prob<=1\n",
    "    if(n*prob > 1):\n",
    "        raise ValueError('The entered probability is invalid, {}*prob > 1'.format(n))\n",
    "    \n",
    "    rand = np.random.uniform(0,1)\n",
    "    #print(rand) # Debugging line\n",
    "    \n",
    "    # Apply error_gate[i] if the randomly generated number is between i*prob and (i+1)*prob\n",
    "    for i in range(n):\n",
    "        if rand < (i+1)*prob:\n",
    "            error_gates[i](qubit)\n",
    "            return\n",
    "    "
   ]
  },
  {
   "cell_type": "markdown",
   "metadata": {},
   "source": [
    "The next cell defines a circuit that implements this random error."
   ]
  },
  {
   "cell_type": "code",
   "execution_count": 9,
   "metadata": {},
   "outputs": [
    {
     "data": {
      "text/html": [
       "<pre style=\"word-wrap: normal;white-space: pre;background: #fff0;line-height: 1.1;font-family: &quot;Courier New&quot;,Courier,monospace\">     ┌───┐┌───┐     \n",
       "q_0: ┤ H ├┤ X ├──■──\n",
       "     ├───┤└───┘┌─┴─┐\n",
       "q_1: ┤ Z ├─────┤ X ├\n",
       "     └───┘     └───┘</pre>"
      ],
      "text/plain": [
       "     ┌───┐┌───┐     \n",
       "q_0: ┤ H ├┤ X ├──■──\n",
       "     ├───┤└───┘┌─┴─┐\n",
       "q_1: ┤ Z ├─────┤ X ├\n",
       "     └───┘     └───┘"
      ]
     },
     "execution_count": 9,
     "metadata": {},
     "output_type": "execute_result"
    }
   ],
   "source": [
    "def genCircuit2(prob):\n",
    "    qc = QuantumCircuit(2)\n",
    "    qc.h(0)\n",
    "\n",
    "    # Adds error gates after the Hadamard\n",
    "    addDiscreteErrorGate(0,prob,[qc.x, qc.z])\n",
    "    addDiscreteErrorGate(1,prob,[qc.x, qc.z])\n",
    "\n",
    "    qc.cx(0,1)\n",
    "    \n",
    "    return qc\n",
    "\n",
    "qc=genCircuit2(p)\n",
    "qc.draw()"
   ]
  },
  {
   "cell_type": "code",
   "execution_count": 10,
   "metadata": {},
   "outputs": [
    {
     "name": "stdout",
     "output_type": "stream",
     "text": [
      "Output state vector:  [ 0.70710678+0.j -0.        +0.j -0.        +0.j  0.70710678+0.j]\n"
     ]
    },
    {
     "data": {
      "image/png": "[encoded data removed]",
      "text/plain": [
       "<Figure size 504x360 with 1 Axes>"
      ]
     },
     "execution_count": 10,
     "metadata": {},
     "output_type": "execute_result"
    }
   ],
   "source": [
    "result = execute(qc,sv_sim).result()\n",
    "print('Output state vector: ', result.get_statevector())\n",
    "\n",
    "counts = result.get_counts()\n",
    "plot_histogram(counts)"
   ]
  },
  {
   "cell_type": "markdown",
   "metadata": {},
   "source": [
    "#### Running Circuit 2\n",
    "\n",
    "In the above cell I displayed the output state and measurement statistics of **one instance** of Circuit 2. Since there are multiple possible ways in which the error can manifest in this circuit, it would make more sense to look at the fidelity of the circuit.\n",
    "\n",
    "Fidelity is a measure of \"how close\" two quantum states are. For the pure state $|\\psi\\rangle$, that is the output of the error-prone circuit, and $|\\phi\\rangle$ that is the output of the error-free circuit, the fidelity is calculated as:\n",
    "$$ F = |\\langle \\psi | \\phi \\rangle |^2 $$\n",
    "\n",
    "We can measure the average fidelity by doing the above calculation for multiple instances of Circuit 2."
   ]
  },
  {
   "cell_type": "code",
   "execution_count": 11,
   "metadata": {},
   "outputs": [],
   "source": [
    "N = 250 # Number of noisy circuits to generate\n",
    "\n",
    "# Expected state vector\n",
    "phi = np.array([(1.0+0.0j)/np.sqrt(2),0.0j,0.0j,(1.0+0.0j)/np.sqrt(2)])\n",
    "\n",
    "# Different values of p we'll simulate\n",
    "probs = np.linspace(0,0.5,20)\n",
    "\n",
    "# Holds the measured fidelity values\n",
    "F = []\n",
    "\n",
    "for prob in probs:\n",
    "    fidelities = []\n",
    "    for i in range(N):\n",
    "        qc = genCircuit2(prob)\n",
    "        psi = execute(qc,sv_sim).result().get_statevector()\n",
    "    \n",
    "        fidelities.append(np.abs(np.vdot(psi,phi))**2)\n",
    "    F.append(np.average(fidelities))"
   ]
  },
  {
   "cell_type": "markdown",
   "metadata": {},
   "source": [
    "Given that they occur immediately after the Hadamard gate, the $X$ and $Z$ errors can only map the output onto one of the Bell states. The inner product $\\langle\\phi|\\psi\\rangle = 1$ if $|\\psi\\rangle=|\\beta_{00}\\rangle$, and $0$ otherwise and the fidelities take on the same values.\n",
    "\n",
    "The errors that keep the output $|\\beta_{00}\\rangle$ are: $I_1I_2, I_1Z_2, X_1I_2,$ and $X_1Z_2 $ and so the expected fidelity for Circuit 2 can be calculated:\n",
    "$$ F = (1-2p)^2 + (1-2p)p + p(1-2p) + p^2 = 1 - 2p + p^2 $$"
   ]
  },
  {
   "cell_type": "code",
   "execution_count": 12,
   "metadata": {},
   "outputs": [
    {
     "data": {
      "text/plain": [
       "<matplotlib.legend.Legend at 0x16e89f10670>"
      ]
     },
     "execution_count": 12,
     "metadata": {},
     "output_type": "execute_result"
    },
    {
     "data": {
      "image/png": "[encoded data removed]",
      "text/plain": [
       "<Figure size 864x432 with 1 Axes>"
      ]
     },
     "metadata": {
      "needs_background": "light"
     },
     "output_type": "display_data"
    }
   ],
   "source": [
    "expected = 1 - 2*probs + probs**2 \n",
    "\n",
    "fig = plt.figure(figsize=(12,6))\n",
    "\n",
    "plt.title('Fidelity for Circuit 2')\n",
    "\n",
    "plt.plot(probs,F,label='Measured')\n",
    "plt.plot(probs,expected,label='Exptected')\n",
    "\n",
    "plt.xlabel('p')\n",
    "plt.ylabel('Fidelity')\n",
    "\n",
    "plt.ylim([0,1.05])\n",
    "\n",
    "plt.legend()"
   ]
  },
  {
   "attachments": {},
   "cell_type": "markdown",
   "metadata": {},
   "source": [
    "### 3. Error Correcting Code\n",
    "\n",
    "I'll be using the Steane 7-qubit code to do error correction because it can correct any arbitrary single-qubit error and the logical Hadamard and CNOT gates are very easy to implement in this error correction scheme.\n",
    "\n",
    "#### Code Subspace and Logical Qubit States\n",
    "In order to perform error correction using the Steane code, we map the space of single qubit states onto a subspace of 7-qubit states, henceforth refered to as the '_code subspace_'. We refer to the register of 7 physical qubits as one _logical qubit_. I'll use an overline to signify that the vectors and operators are logical analogs to the physical vectors and operators.\n",
    "\n",
    "For example, the logical $|0\\rangle$ state is:\n",
    "\n",
    "$$ |\\bar{0}\\rangle = \\frac{1}{\\sqrt{8}} \\left[\n",
    "|0000000\\rangle + \n",
    "|1010101\\rangle + \n",
    "|0110011\\rangle + \n",
    "|1100110\\rangle + \n",
    "|0001111\\rangle + \n",
    "|1011010\\rangle + \n",
    "|0111100\\rangle + \n",
    "|1101001\\rangle\n",
    "\\right]\n",
    "$$\n",
    "\n",
    "and the logical $X$ and $Z$ gates are:\n",
    "$$ \\bar{X} = X_1 X_2 X_3 X_4 X_5 X_6 X_7 $$\n",
    "$$ \\bar{Z} = Z_1 Z_2 Z_3 Z_4 Z_5 Z_6 Z_7 $$\n",
    "\n",
    "#### Measuring Logical Qubits\n",
    "If $\\bar{M}$ is an observable on seven qubits with eigenvalues $\\pm 1$, its measurement projectors can be written in the form\n",
    "$$ \\frac{I \\pm \\bar{M}}{\\sqrt{2}} $$\n",
    "\n",
    "With the help an ancilla qubit, we can measure $\\bar{M}$ the following circuit:\n",
    "\n",
    "![General Measurement Circuit](general-measurement-circuit.png)\n",
    "\n",
    "Measuring the ancilla as 0 corresponds to measuring the eigenvalue +1 and measuring the ancilla as 1 corresponds to measuring the eigenvalue -1. The 7-qubit register will be projected into the corresponding eigenspace of $\\bar{M}$ after measurement.\n",
    "\n",
    "#### Error Correction and Initializing the Logical $|0\\rangle$ State\n",
    "The following operators are called the '_Stabilizer Generators_' of the Steane code:\n",
    "\n",
    "Name|Operator\n",
    "----|--------\n",
    "$g_1$|$I_1 I_2 I_3 X_4 X_5 X_6 X_7$\n",
    "$g_2$|$I_1 X_2 X_3 I_4 I_5 X_6 X_7$\n",
    "$g_3$|$X_1 I_2 X_3 I_4 X_5 I_6 X_7$\n",
    "$g_4$|$I_1 I_2 I_3 Z_4 Z_5 Z_6 Z_7$\n",
    "$g_5$|$I_1 Z_2 Z_3 I_4 I_5 Z_6 Z_7$\n",
    "$g_6$|$Z_1 I_2 Z_3 I_4 Z_5 I_6 Z_7$\n",
    "\n",
    "They are all observables with eigenvalues $\\pm 1$. The code subspace is the intersection of their +1 eigenspaces, i.e. a successive measurement of +1 for each of these operators will project the logical qubit into the code subpace.\n",
    "\n",
    "Since each $g_i$ is a tensor product of $I$, $X$ and $Z$, we can controlled-$g_i$s for measurement using CNOT and CZ gates.\n",
    "\n",
    "We use this property to do error correction. The eigenvalues measured for all of the $g_i$'s are collectively called the '_syndrome_' of the measurement. Although, it is more convenient for us to refer to the measured bits instead (remember +1 corresponds to 0 and -1 corresponds to 1).\n",
    "If the syndrome is not all 0s, then we need to apply some corrective gates to project the logical qubit into the code space.\n",
    "\n",
    "The measurements for $g_1,g_2,g_3$ read left to right as a binary integer tell us the index of the qubit to apply a corrective $Z$ gate to.\n",
    "\n",
    "And likewise, the measurements for $g_4,g_5,g_6$ read left to right as a binary integer tell us the index of the qubit to apply a corrective $X$ gate to.\n",
    "\n",
    "![Error Correction Circuit](steane-measure-circuit.png)\n",
    "\n",
    "These corrections will project the logical qubit into the code subspace. In particular, if we start with the logical qubit in the $|0000000\\rangle$ state, under these corrections, it will be projected into the logical 0 state $|\\bar{0}\\rangle$."
   ]
  },
  {
   "cell_type": "code",
   "execution_count": 13,
   "metadata": {},
   "outputs": [],
   "source": [
    "def error_correction(qc, x_ancillas, z_ancillas, logical_qubit, x_syndrome, z_syndrome):\n",
    "    # Make sure inputs are valid\n",
    "    if not isinstance(qc, QuantumCircuit):\n",
    "        raise TypeError(\"'qc', should be a QuantumCircuit\")\n",
    "    \n",
    "    if not isinstance(x_ancillas, QuantumRegister):\n",
    "        raise TypeError(\"'x_ancillas' should be a QuantumRegister\")\n",
    "    elif x_ancillas.size != 3:\n",
    "        raise TypeError(\"'x_ancillas' must have 3 qubits\")\n",
    "        \n",
    "    if not isinstance(z_ancillas, QuantumRegister):\n",
    "        raise TypeError(\"'z_ancillas' should be a QuantumRegister\")\n",
    "    elif z_ancillas.size != 3:\n",
    "        raise TypeError(\"'z_ancillas' must have 3 qubits\")\n",
    "    \n",
    "    if not isinstance(logical_qubit, QuantumRegister):\n",
    "        raise TypeError(\"'logical_qubit' should be a QuantumRegister\")\n",
    "    elif logical_qubit.size != 7:\n",
    "        raise TypeError(\"'logical_qubit' must have 7 qubits\")\n",
    "    \n",
    "    if not isinstance(x_syndrome, ClassicalRegister):\n",
    "        raise TypeError(\"'x_syndrome' should be a ClassicalRegister\")\n",
    "    elif x_syndrome.size != 3:\n",
    "        raise TypeError(\"'x_syndrome' must have 3 bits\")\n",
    "        \n",
    "    if not isinstance(z_syndrome, ClassicalRegister):\n",
    "        raise TypeError(\"'z_syndrome' should be a ClassicalRegister\")\n",
    "    elif z_syndrome.size != 3:\n",
    "        raise TypeError(\"'z_syndrome' must have 3 bits\")\n",
    "        \n",
    "    # Initialize the ancillas to |0>\n",
    "    for i in range(3):\n",
    "        qc.initialize([1,0], x_ancillas[i])\n",
    "        qc.initialize([1,0], z_ancillas[i])\n",
    "        \n",
    "    # Apply Hadamard to the ancillas\n",
    "    qc.h(x_ancillas)\n",
    "    qc.h(z_ancillas)\n",
    "    \n",
    "    # Controlled g_i\n",
    "    qc.cx(z_ancillas[2], [logical_qubit[i-1] for i in [4,5,6,7]]) # Controlled g1\n",
    "    qc.cx(z_ancillas[1], [logical_qubit[i-1] for i in [2,3,6,7]]) # Controlled g2\n",
    "    qc.cx(z_ancillas[0], [logical_qubit[i-1] for i in [1,3,5,7]]) # Controlled g3\n",
    "    \n",
    "    qc.cz(x_ancillas[2], [logical_qubit[i-1] for i in [4,5,6,7]]) # Controlled g4\n",
    "    qc.cz(x_ancillas[1], [logical_qubit[i-1] for i in [2,3,6,7]]) # Controlled g5\n",
    "    qc.cz(x_ancillas[0], [logical_qubit[i-1] for i in [1,3,5,7]]) # Controlled g6\n",
    "    \n",
    "    # Apply Hadamard to the ancillas\n",
    "    qc.h(x_ancillas)\n",
    "    qc.h(z_ancillas)\n",
    "    \n",
    "    # Measure the ancillas\n",
    "    qc.measure(x_ancillas, x_syndrome)\n",
    "    qc.measure(z_ancillas,z_syndrome)\n",
    "    \n",
    "    # Apply the corrective X gates\n",
    "    for i in range(1,8):\n",
    "        qc.x(logical_qubit[i-1]).c_if(x_syndrome,i)\n",
    "    \n",
    "    # Apply the corrective Z gates\n",
    "    for i in range(1,8):\n",
    "        qc.z(logical_qubit[i-1]).c_if(z_syndrome,i)"
   ]
  },
  {
   "cell_type": "code",
   "execution_count": 14,
   "metadata": {},
   "outputs": [
    {
     "name": "stdout",
     "output_type": "stream",
     "text": [
      "Number of kets in superposition:  8\n",
      "Kets in superposition:\n",
      "Ket: 1110000 --- Amplitude: (0.35355339059327373-6.494670421766201e-17j)\n",
      "Ket: 1101111 --- Amplitude: (0.35355339059327373-1.5154230984121137e-16j)\n",
      "Ket: 1101101 --- Amplitude: (0.35355339059327373-1.5154230984121137e-16j)\n",
      "Ket: 1110011 --- Amplitude: (0.35355339059327373-1.515423098412114e-16j)\n",
      "Ket: 1101001 --- Amplitude: (0.35355339059327373-1.9484011265298604e-16j)\n",
      "Ket: 1010101 --- Amplitude: (0.35355339059327373-1.082445070294367e-16j)\n",
      "Ket: 0110011 --- Amplitude: (0.35355339059327373-1.0824450702943669e-16j)\n",
      "Ket: 0001111 --- Amplitude: (0.35355339059327373-1.0824450702943669e-16j)\n",
      "\n",
      "sqrt[1/8] = 0.3535533905932738\n"
     ]
    }
   ],
   "source": [
    "# Verifying that this error correction will generate the logical 0 state\n",
    "\n",
    "lq = QuantumRegister(7)\n",
    "x_anc  = QuantumRegister(3)\n",
    "x_syn  = ClassicalRegister(3)\n",
    "z_anc  = QuantumRegister(3)\n",
    "z_syn  = ClassicalRegister(3)\n",
    "\n",
    "qc = QuantumCircuit(x_anc,z_anc,lq,x_syn,z_syn)\n",
    "error_correction(qc, x_anc, z_anc, lq, x_syn, z_syn)\n",
    "\n",
    "result = execute(qc, sv_sim).result()\n",
    "sv = result.get_statevector()\n",
    "\n",
    "# list that holds the computational basis vector names where the amplitude is non-zero\n",
    "indices = []       \n",
    "for i in range(len(sv)):\n",
    "    if sv[i] != 0:\n",
    "        # store the index as a 10-bit long binary number\n",
    "        indices.append( ((str(bin(i)[2:]).zfill(3+7)),sv[i]) )\n",
    "        \n",
    "print('Number of kets in superposition: ', len(indices))\n",
    "print(\"Kets in superposition:\")\n",
    "for i in indices:\n",
    "    print('Ket:', i[0][0:7][::-1], '--- Amplitude:', i[1] ) # Extract the 7 left-most bits of the number, \n",
    "                                                            # reverse them (for consistency with the notes)\n",
    "                                                            # and print the amplitude of the ket\n",
    "\n",
    "print('\\nsqrt[1/8] =',np.sqrt(1/8))                        # To verify the amplitudes are correct"
   ]
  },
  {
   "cell_type": "markdown",
   "metadata": {},
   "source": [
    "Verify that the kets in the output above match the the statevector match the logical $|0\\rangle$ state\n",
    "$$ |\\bar{0}\\rangle = \\frac{1}{\\sqrt{8}} \\left[\n",
    "|0000000\\rangle + \n",
    "|1010101\\rangle + \n",
    "|0110011\\rangle + \n",
    "|1100110\\rangle + \n",
    "|0001111\\rangle + \n",
    "|1011010\\rangle + \n",
    "|0111100\\rangle + \n",
    "|1101001\\rangle\n",
    "\\right],\n",
    "$$"
   ]
  },
  {
   "cell_type": "markdown",
   "metadata": {},
   "source": [
    "#### Applying Gates in the Code Subspace\n",
    "As mentioned earlier, the logical $X$ and $Z$ gates for the Steane code are:\n",
    "$$ \\bar{X} = X_1X_2X_3X_4X_5X_6X_7 $$\n",
    "$$ \\bar{Z} = Z_1Z_2Z_3Z_4Z_5Z_6Z_7 $$\n",
    "\n",
    "##### Logical Hadamard Gate\n",
    "For a single qubit, the Hadamard gate has the folliwing properties:\n",
    "$$ HXH = Z $$\n",
    "$$ HZH = X $$\n",
    "and so the logical Hadamard gate acting on the code space must follow the first two properties for the logical $X$ and $Z$ gates:\n",
    "$$ \\bar{H}\\bar{X}\\bar{H} = \\bar{Z} $$\n",
    "$$ \\bar{H}\\bar{Z}\\bar{H} = \\bar{X} $$\n",
    "\n",
    "$$ \\bar{H} = H_1 H_2 H_3 H_4 H_5 H_6 H_7 $$ \n",
    "clearly satisfies this property and can be used as the logical Hadamard gate."
   ]
  },
  {
   "cell_type": "code",
   "execution_count": 15,
   "metadata": {},
   "outputs": [],
   "source": [
    "# Adds the logical Hadamard  gate to a QuantumCircuit qc\n",
    "def logical_h(qc, logical_qubit):\n",
    "    if not isinstance(qc, QuantumCircuit):\n",
    "        raise TypeError(\"'qc', should be a QuantumCircuit\")\n",
    "        \n",
    "    if not isinstance(logical_qubit, QuantumRegister):\n",
    "        raise TypeError(\"'logical_qubit' should be a QuantumRegister\")\n",
    "    elif logical_qubit.size != 7:\n",
    "        raise TypeError(\"'logical_qubit' must have 7 qubits\")\n",
    "\n",
    "    qc.h(logical_qubit)"
   ]
  },
  {
   "cell_type": "markdown",
   "metadata": {},
   "source": [
    "##### Logical CNOT Gate\n",
    "The logical CNOT can be implemented in the Steane code subspace by taking individual CNOTS controlled by each of the qubits in the first logical register targetting the qubits sharing the same index in the second logical qubit"
   ]
  },
  {
   "cell_type": "code",
   "execution_count": 16,
   "metadata": {},
   "outputs": [],
   "source": [
    "# Adds the logical CNOT gate to a QuantumCircuit qc with logical qubit 'control' as the control\n",
    "# and 'target' as target\n",
    "def logical_cx(qc, control, target):\n",
    "    if not isinstance(qc, QuantumCircuit):\n",
    "        raise TypeError(\"'qc', should be a QuantumCircuit\")\n",
    "        \n",
    "    if not isinstance(control, QuantumRegister):\n",
    "        raise TypeError(\"'control' should be a QuantumRegister\")\n",
    "    elif control.size != 7:\n",
    "        raise TypeError(\"'control' must have 7 qubits\")\n",
    "    \n",
    "    if not isinstance(control, QuantumRegister):\n",
    "        raise TypeError(\"'control' should be a QuantumRegister\")\n",
    "    elif control.size != 7:\n",
    "        raise TypeError(\"'control' must have 7 qubits\")\n",
    "\n",
    "    for i in range(7):\n",
    "        qc.cx(control[i],target[i])"
   ]
  },
  {
   "cell_type": "markdown",
   "metadata": {},
   "source": [
    "#### Measuring the Logical Qubits in the Z-basis\n",
    "As using the same measurement outline as before, we can measure a logical qubit in the $Z$-basis by\n",
    "replacing $\\bar{M}$ with $\\bar{Z}$:"
   ]
  },
  {
   "cell_type": "code",
   "execution_count": 17,
   "metadata": {},
   "outputs": [],
   "source": [
    "# Measures logical_qubit in the Z basis using ancilla, in the circuit qc\n",
    "def logical_z_measure(qc, ancilla, logical_qubit, measurement):\n",
    "    # Make sure the inputs are valid\n",
    "    if not isinstance(qc, QuantumCircuit):\n",
    "        raise TypeError(\"'qc' should be a QuantumCircuit\")\n",
    "    \n",
    "    if not isinstance(ancilla, QuantumRegister):\n",
    "        raise TypeError(\"'ancilla' should be a QuantumRegister\")\n",
    "    elif ancilla.size != 1:\n",
    "        raise TypeError(\"'ancilla' must have 1 qubit\")\n",
    "    \n",
    "    if not isinstance(logical_qubit, QuantumRegister):\n",
    "        raise TypeError(\"'logical_qubit'should be a QuantumRegister\")\n",
    "    elif logical_qubit.size != 7:\n",
    "        raise TypeError(\"'logical_qubit' must have 7 qubits\")\n",
    "    \n",
    "    if not isinstance(measurement, ClassicalRegister):\n",
    "        raise TypeError(\"'measurement' should be a ClassicalRegister\")\n",
    "    elif measurement.size != 1:\n",
    "        raise TypeError(\"'measurement' must have 1 bit\")\n",
    "        \n",
    "    # Initialize ancilla to |0>\n",
    "    qc.initialize([1,0],ancilla)\n",
    "    \n",
    "    # Apply Hadamard to ancilla\n",
    "    qc.h(ancilla)\n",
    "    # Apply controlled logical-Z\n",
    "    for i in range(7):\n",
    "        qc.cz(ancilla, logical_qubit[i])\n",
    "    # Apply Hadamard to ancilla\n",
    "    qc.h(ancilla)\n",
    "    \n",
    "    # Measure the ancilla\n",
    "    qc.measure(ancilla, measurement)"
   ]
  },
  {
   "cell_type": "markdown",
   "metadata": {},
   "source": [
    "#### Error Correcting Circuit\n",
    "Although in the problem statement we know to expect an error between the Hadamard and CNOT, it makes more sense to detect and correct for errors after every operation."
   ]
  },
  {
   "cell_type": "code",
   "execution_count": 18,
   "metadata": {},
   "outputs": [],
   "source": [
    "# error_levels:\n",
    "# 0 - No errors\n",
    "# 1 - Exactly one bit flip and one phase flip error on any one physical qubit of each logical qubit\n",
    "# 2 - Bit and Phase flip possible on every physical qubit\n",
    "\n",
    "def BellCircuit_With_EC(error_prob=0, error_level=0):\n",
    "    # The logical qubits\n",
    "    lq_1 = QuantumRegister(7,name='lq_1')\n",
    "    lq_2 = QuantumRegister(7,name='lq_2')\n",
    "\n",
    "    # Error Correction Ancillas\n",
    "    x_ec_ancilla = QuantumRegister(3,name='x_ec_ancil')\n",
    "    z_ec_ancilla = QuantumRegister(3,name='z_ec_ancil')\n",
    "    \n",
    "    x_ec_syndrome = ClassicalRegister(3,name='x_ec_synd')\n",
    "    z_ec_syndrome = ClassicalRegister(3,name='z_ec_synd')\n",
    "    \n",
    "    # Measurement Ancillas\n",
    "    z_meas_ancilla_1 = QuantumRegister(1,name='meas_ancil_1')\n",
    "    z_meas_ancilla_2 = QuantumRegister(1,name='meas_ancil_2')\n",
    "\n",
    "    z_meas_1 = ClassicalRegister(1,name='meas 1')\n",
    "    z_meas_2 = ClassicalRegister(1,name='meas 2')\n",
    "\n",
    "    # Define the quantum circuit on these registers\n",
    "    qc = QuantumCircuit(lq_1, lq_2,\n",
    "                        x_ec_ancilla, z_ec_ancilla, z_meas_ancilla_1, z_meas_ancilla_2,\n",
    "                        x_ec_syndrome, z_ec_syndrome, z_meas_1, z_meas_2)\n",
    "    \n",
    "    # A function to introduce error dependent on the error_level\n",
    "        # post_H is a flag for error_level=1, to check if the function is called right \n",
    "        # after the Hadamard\n",
    "    def introduce_error():\n",
    "        if not isinstance(error_level, int):\n",
    "            raise TypeError(\"'error_level' must be an integer\")\n",
    "        if error_level < 0 or error_level > 3:\n",
    "            raise ValueError(\"'error_level' must be between 0 and 3, inclusive\")\n",
    "        \n",
    "        if error_level == 0: # no error\n",
    "            return\n",
    "        \n",
    "        if error_level == 1: # Exactly one error anywhere\n",
    "            qc.x(lq_1[np.random.randint(0,6+1)])\n",
    "            qc.z(lq_1[np.random.randint(0,6+1)])\n",
    "\n",
    "            qc.x(lq_2[np.random.randint(0,6+1)])\n",
    "            qc.z(lq_2[np.random.randint(0,6+1)])\n",
    "            return\n",
    "        \n",
    "        if error_level == 2: # Bit/Phase flips possible on every physical qubit\n",
    "            for i in range(7):\n",
    "                addDiscreteErrorGate(lq_1[i], error_prob, [qc.x, qc.z])\n",
    "                addDiscreteErrorGate(lq_1[i], error_prob, [qc.x, qc.z])\n",
    "            return\n",
    "    \n",
    "    # Initialize the logical qubits to the 0 state\n",
    "    error_correction(qc, x_ec_ancilla, z_ec_ancilla, lq_1, x_ec_syndrome, z_ec_syndrome)\n",
    "    error_correction(qc, x_ec_ancilla, z_ec_ancilla, lq_2, x_ec_syndrome, z_ec_syndrome)\n",
    "\n",
    "    # Apply the Hadamard gate\n",
    "    logical_h(qc, lq_1)    \n",
    "    introduce_error()\n",
    "    \n",
    "    error_correction(qc, x_ec_ancilla, z_ec_ancilla, lq_1, x_ec_syndrome, z_ec_syndrome)\n",
    "    error_correction(qc, x_ec_ancilla, z_ec_ancilla, lq_2, x_ec_syndrome, z_ec_syndrome)\n",
    "\n",
    "    # Apply the CNOT gate\n",
    "    logical_cx(qc, lq_1, lq_2)\n",
    "    introduce_error()\n",
    "    \n",
    "    error_correction(qc, x_ec_ancilla, z_ec_ancilla, lq_1, x_ec_syndrome, z_ec_syndrome)\n",
    "    error_correction(qc, x_ec_ancilla, z_ec_ancilla, lq_2, x_ec_syndrome, z_ec_syndrome)\n",
    "\n",
    "    # Measure the qubits\n",
    "    logical_z_measure(qc, z_meas_ancilla_1, lq_1, z_meas_1)\n",
    "    logical_z_measure(qc, z_meas_ancilla_2, lq_2, z_meas_2)\n",
    "    \n",
    "    return qc"
   ]
  },
  {
   "cell_type": "markdown",
   "metadata": {},
   "source": [
    "# Verifying the results"
   ]
  },
  {
   "cell_type": "code",
   "execution_count": 19,
   "metadata": {},
   "outputs": [],
   "source": [
    "N = 100   # Number of noisy circuits generated\n",
    "p = 0.1   # Probability of an error, max 0.5 because the error can be X or Z"
   ]
  },
  {
   "cell_type": "markdown",
   "metadata": {},
   "source": [
    "## Error Level 0 - Error-free circuit "
   ]
  },
  {
   "cell_type": "code",
   "execution_count": 21,
   "metadata": {},
   "outputs": [
    {
     "data": {
      "image/png": "[encoded data removed]",
      "text/plain": [
       "<Figure size 504x360 with 1 Axes>"
      ]
     },
     "execution_count": 21,
     "metadata": {},
     "output_type": "execute_result"
    }
   ],
   "source": [
    "# Error Level 0\n",
    "\n",
    "net_counts = {}\n",
    "for i in range(N):\n",
    "    # Generate a noisy circuit\n",
    "    qc = BellCircuit_With_EC(p,0)\n",
    "    \n",
    "    # Get measurement outcomes\n",
    "    result = execute(qc, qasm_sim).result()\n",
    "    counts = result.get_counts()\n",
    "\n",
    "    # We want to extract only the final measurements, which are the right-most 2 bits \n",
    "    # in the counts dictionary key string\n",
    "    for key in counts.keys():\n",
    "        # truncate the measurement string to include the Z-measurements\n",
    "        truncated_key = key[0:3][::-1] # Reversed to match order lq_1 lq_2\n",
    "        if truncated_key in net_counts.keys():\n",
    "            net_counts[truncated_key] += counts[key]\n",
    "        else:\n",
    "            net_counts[truncated_key] = counts[key]\n",
    "\n",
    "plot_histogram(net_counts)"
   ]
  },
  {
   "cell_type": "markdown",
   "metadata": {},
   "source": [
    "## Error Level 1 - Exactly one bit flip and phase flip per logical qubit "
   ]
  },
  {
   "cell_type": "code",
   "execution_count": 22,
   "metadata": {},
   "outputs": [
    {
     "data": {
      "image/png": "[encoded data removed]",
      "text/plain": [
       "<Figure size 504x360 with 1 Axes>"
      ]
     },
     "execution_count": 22,
     "metadata": {},
     "output_type": "execute_result"
    }
   ],
   "source": [
    "# Error Level 1\n",
    "\n",
    "net_counts = {}\n",
    "for i in range(N):\n",
    "    # Generate a noisy circuit\n",
    "    qc = BellCircuit_With_EC(p,1)\n",
    "    \n",
    "    # Get measurement outcomes\n",
    "    result = execute(qc, qasm_sim).result()\n",
    "    counts = result.get_counts()\n",
    "\n",
    "    # We want to extract only the final measurements, which are the right-most 2 bits \n",
    "    # in the counts dictionary key string\n",
    "    for key in counts.keys():\n",
    "        # truncate the measurement string to include the Z-measurements\n",
    "        truncated_key = key[0:3][::-1] # Reversed to match order lq_1 lq_2\n",
    "        if truncated_key in net_counts.keys():\n",
    "            net_counts[truncated_key] += counts[key]\n",
    "        else:\n",
    "            net_counts[truncated_key] = counts[key]\n",
    "\n",
    "plot_histogram(net_counts)"
   ]
  },
  {
   "cell_type": "markdown",
   "metadata": {},
   "source": [
    "## Error Level 2 - Bit/Phase flip possible on every physical qubit "
   ]
  },
  {
   "cell_type": "code",
   "execution_count": 23,
   "metadata": {},
   "outputs": [
    {
     "data": {
      "image/png": "[encoded data removed]",
      "text/plain": [
       "<Figure size 504x360 with 1 Axes>"
      ]
     },
     "execution_count": 23,
     "metadata": {},
     "output_type": "execute_result"
    }
   ],
   "source": [
    "# Error Level 2\n",
    "\n",
    "net_counts = {}\n",
    "for i in range(N):\n",
    "    # Generate a noisy circuit\n",
    "    qc = BellCircuit_With_EC(p,2)\n",
    "    \n",
    "    # Get measurement outcomes\n",
    "    result = execute(qc, qasm_sim).result()\n",
    "    counts = result.get_counts()\n",
    "\n",
    "    # We want to extract only the final measurements, which are the right-most 2 bits \n",
    "    # in the counts dictionary key string\n",
    "    for key in counts.keys():\n",
    "        # truncate the measurement string to include the Z-measurements\n",
    "        truncated_key = key[0:3][::-1] # Reversed to match order lq_1 lq_2\n",
    "        if truncated_key in net_counts.keys():\n",
    "            net_counts[truncated_key] += counts[key]\n",
    "        else:\n",
    "            net_counts[truncated_key] = counts[key]\n",
    "\n",
    "plot_histogram(net_counts)"
   ]
  }
 ],
 "metadata": {
  "kernelspec": {
   "display_name": "Python 3",
   "language": "python",
   "name": "python3"
  },
  "language_info": {
   "codemirror_mode": {
    "name": "ipython",
    "version": 3
   },
   "file_extension": ".py",
   "mimetype": "text/x-python",
   "name": "python",
   "nbconvert_exporter": "python",
   "pygments_lexer": "ipython3",
   "version": "3.9.1"
  }
 },
 "nbformat": 4,
 "nbformat_minor": 2
}
